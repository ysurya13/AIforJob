{
 "cells": [
  {
   "cell_type": "code",
   "execution_count": 77,
   "metadata": {},
   "outputs": [],
   "source": [
    "from openai import OpenAI\n",
    "import os\n",
    "import asyncio\n",
    "from pyppeteer import launch\n",
    "import nest_asyncio\n",
    "from pypdf import PdfReader\n",
    "import pandas as pd\n",
    "import glob"
   ]
  },
  {
   "cell_type": "code",
   "execution_count": 78,
   "metadata": {},
   "outputs": [],
   "source": [
    "# read current resume\n",
    "def read_current_resume():\n",
    "    # get pdf file in source_resume folder\n",
    "    pdf_files = glob.glob(\"./source_resume/*.pdf\")\n",
    "    if not pdf_files:\n",
    "        raise FileNotFoundError(\"No PDF files found in the source_resume folder.\")\n",
    "    pdf_file = pdf_files[0]\n",
    "    reader = PdfReader(pdf_file)\n",
    "    number_of_pages = len(reader.pages)\n",
    "    texts = \"\"\n",
    "    for page_number in range(number_of_pages):\n",
    "        page = reader.pages[page_number]\n",
    "        text = page.extract_text()\n",
    "        texts = texts + f\"Page {page_number + 1}:\\n{text}\\n---\"\n",
    "    return texts"
   ]
  },
  {
   "cell_type": "code",
   "execution_count": 79,
   "metadata": {},
   "outputs": [],
   "source": [
    "# read job description txt file for now\n",
    "def read_job_description():\n",
    "    path = os.path.join(os.getcwd(), \"source_job_desc\", \"job_data.txt\")\n",
    "    with open(path, \"r\") as file:\n",
    "        return file.read()"
   ]
  },
  {
   "cell_type": "code",
   "execution_count": 80,
   "metadata": {},
   "outputs": [],
   "source": [
    "def model_selection(model):\n",
    "    if model == \"openai\":\n",
    "        client = OpenAI(api_key=os.getenv(\"OPENAI_API_KEY\"))\n",
    "        ai_model = \"gpt-4o-mini\"\n",
    "    elif model == \"deepseek\":\n",
    "        client = OpenAI(api_key=os.getenv(\"DEEPSEEK_API_KEY\"), base_url=\"https://api.deepseek.com\")\n",
    "        ai_model = \"deepseek-chat\"\n",
    "    else:\n",
    "        raise Exception(\"Invalid model\")\n",
    "    return client, ai_model"
   ]
  },
  {
   "cell_type": "code",
   "execution_count": 81,
   "metadata": {},
   "outputs": [],
   "source": [
    "# find keywords in job description\n",
    "def find_keywords(client, ai_model):\n",
    "\n",
    "    response = client.chat.completions.create(\n",
    "        #model=\"deepseek-chat\",\n",
    "        model=ai_model,\n",
    "        messages=[\n",
    "            {\"role\": \"system\", \"content\": \"You are a expert in recruitment.\"},\n",
    "            {\"role\": \"user\", \"content\": f\"Job Description: {read_job_description()}\"},\n",
    "            {\"role\": \"user\", \"content\": \"Find the company_name, job_title, and relevant_skills in the job description. Do not rephrase!\"},\n",
    "            #{\"role\": \"user\", \"content\": \"Output format: Company; [company name], Job Title: [job title], Skills: [skills]\"},\n",
    "            {\"role\": \"user\", \"content\": \"Only output 3 parameters: company_name, job_title, relevant_skills. Output in csv format!\"}\n",
    "            ],\n",
    "        stream=False\n",
    "    )\n",
    "\n",
    "    return response.choices[0].message.content"
   ]
  },
  {
   "cell_type": "code",
   "execution_count": 82,
   "metadata": {},
   "outputs": [],
   "source": [
    "def save_job_description():\n",
    "    job_description = input(\"Please enter the job description: \")\n",
    "    path = os.path.join(os.getcwd(), \"source_job_desc\", \"job_data.txt\")\n",
    "    with open(path, \"w\") as file:\n",
    "        file.write(job_description)\n",
    "    print(\"Job description saved successfully.\")"
   ]
  },
  {
   "cell_type": "code",
   "execution_count": 83,
   "metadata": {},
   "outputs": [],
   "source": [
    "# Headline\n",
    "def find_headline(client, ai_model, job_title, relevent_skills):\n",
    "    #client = OpenAI(api_key=DEEPSEEK_API_KEY, base_url=\"https://api.deepseek.com\")\n",
    "\n",
    "    response = client.chat.completions.create(\n",
    "        model=ai_model,\n",
    "        messages=[\n",
    "            {\"role\": \"system\", \"content\": \"You are a expert in ATS friendly resume writing.\"},\n",
    "            #{\"role\": \"user\", \"content\": \"Based on job description and my resume below:\"},\n",
    "            {\"role\": \"user\", \"content\": f\"Current resume: {read_current_resume()}\"},\n",
    "            {\"role\": \"user\", \"content\": f\"Relevant skills: {relevent_skills}\"},\n",
    "            {\"role\": \"user\", \"content\": f\"Job Title: {job_title}\"},\n",
    "            {\"role\": \"user\", \"content\": \"\"\"Make only the headline section. Use these formats:\n",
    "            Results-Oriented Business Analyst with 7 Years of Experience, Finance Manager with 10 Years of Experience in the Banking Industry,\n",
    "            Human Resources Professional with 5 Years of Experience in Recruitment and Employee Relations\"\"\"},\n",
    "            {\"role\": \"user\", \"content\": \"Use the exact same job title and skills you found in the job description.\"},\n",
    "            {\"role\": \"user\", \"content\": \"Do not include your explanation in the output.\"},\n",
    "            ],\n",
    "        stream=False\n",
    "    )\n",
    "\n",
    "    headline = response.choices[0].message.content\n",
    "    return headline"
   ]
  },
  {
   "cell_type": "code",
   "execution_count": 84,
   "metadata": {},
   "outputs": [],
   "source": [
    "# Work Experience\n",
    "def work_experience(client, ai_model, jobdesc):\n",
    "\n",
    "    response = client.chat.completions.create(\n",
    "        model=ai_model,\n",
    "        messages=[\n",
    "            {\"role\": \"system\", \"content\": \"You are a expert in ATS friendly resume writing.\"},\n",
    "            {\"role\": \"user\", \"content\": \"Based on job description and my resume below:\"},\n",
    "            {\"role\": \"user\", \"content\": f\"Current resume: {read_current_resume()}\"},\n",
    "            {\"role\": \"user\", \"content\": f\"Job Description: {jobdesc}\"},\n",
    "            {\"role\": \"user\", \"content\": \"Modify the work experience section of my resume to include all the relevant skills and experience from the job description.\"},\n",
    "            {\"role\": \"user\", \"content\": \"Change the job title to match the job description.\"},\n",
    "            {\"role\": \"user\", \"content\": \"Format: Job Title - Company Name - Location - Start Date to End Date in one line followed by a bullet point list of responsibilities and achievements.\"},\n",
    "            {\"role\": \"user\", \"content\": \"Do not include your explanation and section title in the output. Only include the modified work experience section.\"},\n",
    "            ],\n",
    "        stream=False\n",
    "    )\n",
    "\n",
    "    work_experience = response.choices[0].message.content\n",
    "    return work_experience"
   ]
  },
  {
   "cell_type": "code",
   "execution_count": 85,
   "metadata": {},
   "outputs": [],
   "source": [
    "# Work Experience\n",
    "def project_section(client, ai_model, relevant_skills):\n",
    "\n",
    "    response = client.chat.completions.create(\n",
    "        model=ai_model,\n",
    "        messages=[\n",
    "            {\"role\": \"system\", \"content\": \"You are a expert in ATS friendly resume writing.\"},\n",
    "            {\"role\": \"user\", \"content\": \"Based skill required and my resume below:\"},\n",
    "            {\"role\": \"user\", \"content\": f\"Current resume: {read_current_resume()}\"},\n",
    "            {\"role\": \"user\", \"content\": f\"Relevant skills: {relevant_skills}\"},\n",
    "            {\"role\": \"user\", \"content\": \"Rewrite the project experience to reflect the skills required.\"},\n",
    "            {\"role\": \"user\", \"content\": \"Do not include your explanation and section title in the output. Only include the modified project experience section.\"},\n",
    "            ],\n",
    "        stream=False\n",
    "    )\n",
    "\n",
    "    project_explanation = response.choices[0].message.content\n",
    "    return project_explanation"
   ]
  },
  {
   "cell_type": "code",
   "execution_count": 86,
   "metadata": {},
   "outputs": [],
   "source": [
    "# Skills section\n",
    "def skills_section(client, ai_model, jobdesc):\n",
    "    response = client.chat.completions.create(\n",
    "        model=ai_model,\n",
    "        messages=[\n",
    "            {\"role\": \"system\", \"content\": \"You are a expert in ATS friendly resume writing.\"},\n",
    "            {\"role\": \"user\", \"content\": \"Based on job description and my resume below:\"},\n",
    "            {\"role\": \"user\", \"content\": f\"Current resume: {read_current_resume()}\"},\n",
    "            {\"role\": \"user\", \"content\": f\"Job Description: {jobdesc}\"},\n",
    "            {\"role\": \"user\", \"content\": \"Provide the skills from the job description that you have and are relevant to the job.\"},\n",
    "            {\"role\": \"user\", \"content\": \"Add the skills that are not in my resume but relevant to the job. Group them into categories like Technical Skills, Soft Skills, etc.\"},\n",
    "            {\"role\": \"user\", \"content\": \"Format: [Category Name]: [Skill 1], [Skill 2], [Skill 3]\"},\n",
    "            {\"role\": \"user\", \"content\": \"Do not include your explanation and section title in the output. \"},\n",
    "            ],\n",
    "        stream=False\n",
    "    )\n",
    "\n",
    "    skills = response.choices[0].message.content\n",
    "    return skills"
   ]
  },
  {
   "cell_type": "code",
   "execution_count": 87,
   "metadata": {},
   "outputs": [],
   "source": [
    "def ats_resume(headline, contact_info, education, work, skills, project_exp, client, ai_model):\n",
    "    #client = OpenAI(api_key=DEEPSEEK_API_KEY, base_url=\"https://api.deepseek.com\")\n",
    "\n",
    "    response = client.chat.completions.create(\n",
    "        model=ai_model,\n",
    "        messages=[\n",
    "            {\"role\": \"system\", \"content\": \"You are a expert in ATS friendly resume writing.\"},\n",
    "            {\"role\": \"user\", \"content\": \"Make ATS friendly resume based on information below.\"},\n",
    "            {\"role\": \"user\", \"content\": f\"Headline: {headline}, put it under the name without any section title.\"},\n",
    "            {\"role\": \"user\", \"content\": f\"Contact Information: {contact_info}\"},\n",
    "            {\"role\": \"user\", \"content\": f\"Education: {education}.\"},\n",
    "            {\"role\": \"user\", \"content\": f\"Project experience: {project_exp}.\"},\n",
    "            {\"role\": \"user\", \"content\": f\"Work Experience: {work}\"},\n",
    "            {\"role\": \"user\", \"content\": f\"Skills: {skills}\"},\n",
    "            {\"role\": \"user\", \"content\": \"Do not include your explanation in the output.\"},\n",
    "            ],\n",
    "        stream=False\n",
    "    )\n",
    "\n",
    "    print(\"Resume generated successfully.\")\n",
    "    resume = response.choices[0].message.content\n",
    "    return resume"
   ]
  },
  {
   "cell_type": "code",
   "execution_count": 88,
   "metadata": {},
   "outputs": [],
   "source": [
    "# format the result to html\n",
    "def resume_to_html(resume, html_format, client, ai_model):\n",
    "    #client\n",
    "\n",
    "    response = client.chat.completions.create(\n",
    "        model=ai_model,\n",
    "        messages=[\n",
    "            {\"role\": \"system\", \"content\": \"You are a expert in html language.\"},\n",
    "            {\"role\": \"user\", \"content\": \"Format the resume to html format\"},\n",
    "            {\"role\": \"user\", \"content\": f\"Resume: {resume}\"},\n",
    "            {\"role\": \"user\", \"content\": f\"Guidelines: {html_format}\"},\n",
    "            {\"role\": \"user\", \"content\": \"Do not include your explanation in the output.\"},\n",
    "            ],\n",
    "        stream=False\n",
    "    )\n",
    "\n",
    "    html_file = response.choices[0].message.content\n",
    "    clean_html = html_file.replace(\"```html\", \"\")\n",
    "    clean_html = clean_html.replace(\"```\", \"\")\n",
    "    return clean_html"
   ]
  },
  {
   "cell_type": "code",
   "execution_count": 89,
   "metadata": {},
   "outputs": [],
   "source": [
    "def html_to_pdf(clean_html, name):\n",
    "\n",
    "    nest_asyncio.apply()\n",
    "    pdf_path = os.path.join(os.getcwd(), \"results\", \"resume\", f\"{name}_Resume.pdf\")\n",
    "\n",
    "    async def generate_pdf_from_html(html_content, pdf_path):\n",
    "        browser = await launch()\n",
    "        page = await browser.newPage()\n",
    "        \n",
    "        await page.setContent(html_content)\n",
    "        \n",
    "        await page.pdf({\n",
    "            'path': pdf_path,\n",
    "            'format': 'A4',\n",
    "            'margin': {\n",
    "                'top': '0.5in',\n",
    "                'right': '0.5in',\n",
    "                'bottom': '0.5in',\n",
    "                'left': '0.5in'\n",
    "            },\n",
    "            'printBackground': True\n",
    "        })\n",
    "        \n",
    "        await browser.close()\n",
    "\n",
    "    # HTML content\n",
    "    html_content = clean_html\n",
    "\n",
    "    # Run the function\n",
    "    asyncio.get_event_loop().run_until_complete(generate_pdf_from_html(html_content, pdf_path))"
   ]
  },
  {
   "cell_type": "code",
   "execution_count": 90,
   "metadata": {},
   "outputs": [],
   "source": [
    "def add_jobdesc_data():\n",
    "    # get jobs description from user\n",
    "    save_job_description()\n",
    "\n",
    "    # analyze the job description\n",
    "    client, ai_model = model_selection(\"openai\")\n",
    "    res = find_keywords(client, ai_model)\n",
    "\n",
    "    # Split the res string into lines\n",
    "    lines = res.split('\\n')\n",
    "    col_name = lines[1].split(',')\n",
    "    content = [lines[2].split(',')[0], lines[2].split(',')[1], str(lines[2].split(',')[2:])]\n",
    "    newcontent = pd.DataFrame([content], columns=col_name)\n",
    "\n",
    "    job_desc_data = pd.read_csv('job_description.csv')\n",
    "    # append the new content to the existing job description data\n",
    "    job_desc_data = pd.concat([job_desc_data, newcontent], ignore_index=True)\n",
    "    #job_desc_data.replace('\"', '', regex=True, inplace=True)\n",
    "    job_desc_data.to_csv('job_description.csv', index=False)\n",
    "\n",
    "    print(\"Job description data added successfully.\")\n",
    "    "
   ]
  },
  {
   "cell_type": "code",
   "execution_count": 91,
   "metadata": {},
   "outputs": [],
   "source": [
    "def custom_resume(company_name, job_title, relevant_skills):\n",
    "    \n",
    "    \n",
    "    client, ai_model = model_selection('openai')\n",
    "    # jobdesc = find_keywords(client, ai_model)\n",
    "    headline = find_headline(client, ai_model, job_title, relevant_skills)\n",
    "    work = work_experience(client, ai_model, relevant_skills)\n",
    "    skills = skills_section(client, ai_model, relevant_skills)\n",
    "    project_exp = project_section(client, ai_model, relevant_skills)\n",
    "\n",
    "    # Contact information\n",
    "    contact_info = \"\"\" \n",
    "    Name: Yusuf Surya\n",
    "    Phone: +1 412 579 2443\n",
    "    Email: ysurya@andrew.cmu.edu\n",
    "    LinkedIn: linkedin.com/in/yusuf-pradana\"\"\" \n",
    "\n",
    "    # Education\n",
    "    education = \"\"\"\n",
    "    Carnegie Mellon University, Heinz College - Master of Public Policy and Management – Data Analytics (Expected 05/2025)\n",
    "    Bandung Institute of Technology - Bachelor of Engineering (07/2017)\n",
    "    \"\"\"\n",
    "\n",
    "    html_format = \"\"\"\n",
    "    Guidelines:\n",
    "    Center the name, headline, and contact information.\n",
    "    Add separator between sections.\n",
    "    Use a 12px font size for all content differentiate bold for important info.\n",
    "    Use a 10px font size for the contact information.\n",
    "    Use Arial font family.\n",
    "    Use 1.5 line spacing.\n",
    "    Use a 20px margin between sections.\n",
    "    Use a 10px margin between the name and headline.\n",
    "\n",
    "    Use Semantic HTML\n",
    "\n",
    "    Wrap the resume in <section> and <div> tags.\n",
    "    Use <h1> for the candidate’s name, <h2> for section titles, and <p> or <ul> for content.\n",
    "\n",
    "    Set body { margin: 0; padding: 20px; }.\n",
    "    Use page-break-before: always; where necessary to manage page flow.\n",
    "    Set max-width: 800px; to keep content properly aligned.\n",
    "    \"\"\"\n",
    "\n",
    "    resume = ats_resume(headline, contact_info, education, work, skills, project_exp, client, ai_model)\n",
    "\n",
    "    # use deepseek for coding assignment\n",
    "    client, ai_model = model_selection('deepseek')\n",
    "    html_file = resume_to_html(resume, html_format, client, ai_model)\n",
    "    html_to_pdf(html_file, name=company_name)"
   ]
  },
  {
   "cell_type": "code",
   "execution_count": 92,
   "metadata": {},
   "outputs": [
    {
     "name": "stdout",
     "output_type": "stream",
     "text": [
      "Job description saved successfully.\n",
      "Job description data added successfully.\n"
     ]
    }
   ],
   "source": [
    "add_jobdesc_data()\n",
    "jobs = pd.read_csv('job_description.csv')\n",
    "company_name = jobs['company_name'].iloc[-1]\n",
    "job_title = jobs['job_title'].iloc[-1]\n",
    "relevant_skills = jobs['relevant_skills'].iloc[-1]"
   ]
  },
  {
   "cell_type": "code",
   "execution_count": 93,
   "metadata": {},
   "outputs": [],
   "source": [
    "company_name = jobs['company_name'].iloc[-1]\n",
    "job_title = jobs['job_title'].iloc[-1]\n",
    "relevant_skills = jobs['relevant_skills'].iloc[-1]"
   ]
  },
  {
   "cell_type": "code",
   "execution_count": 94,
   "metadata": {},
   "outputs": [
    {
     "name": "stdout",
     "output_type": "stream",
     "text": [
      "Resume generated successfully.\n"
     ]
    }
   ],
   "source": [
    "custom_resume(company_name, job_title, relevant_skills)"
   ]
  }
 ],
 "metadata": {
  "kernelspec": {
   "display_name": "base",
   "language": "python",
   "name": "python3"
  },
  "language_info": {
   "codemirror_mode": {
    "name": "ipython",
    "version": 3
   },
   "file_extension": ".py",
   "mimetype": "text/x-python",
   "name": "python",
   "nbconvert_exporter": "python",
   "pygments_lexer": "ipython3",
   "version": "3.12.7"
  }
 },
 "nbformat": 4,
 "nbformat_minor": 4
}
