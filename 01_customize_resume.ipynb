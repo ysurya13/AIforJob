{
 "cells": [
  {
   "cell_type": "code",
   "execution_count": 2,
   "metadata": {},
   "outputs": [],
   "source": [
    "from openai import OpenAI\n",
    "import os\n",
    "import asyncio\n",
    "from pyppeteer import launch\n",
    "import nest_asyncio\n",
    "from pypdf import PdfReader\n",
    "import pandas as pd"
   ]
  },
  {
   "cell_type": "code",
   "execution_count": 3,
   "metadata": {},
   "outputs": [
    {
     "data": {
      "text/html": [
       "<div>\n",
       "<style scoped>\n",
       "    .dataframe tbody tr th:only-of-type {\n",
       "        vertical-align: middle;\n",
       "    }\n",
       "\n",
       "    .dataframe tbody tr th {\n",
       "        vertical-align: top;\n",
       "    }\n",
       "\n",
       "    .dataframe thead th {\n",
       "        text-align: right;\n",
       "    }\n",
       "</style>\n",
       "<table border=\"1\" class=\"dataframe\">\n",
       "  <thead>\n",
       "    <tr style=\"text-align: right;\">\n",
       "      <th></th>\n",
       "      <th>Company Name</th>\n",
       "      <th>Job Title</th>\n",
       "      <th>Relevant Skills</th>\n",
       "    </tr>\n",
       "  </thead>\n",
       "  <tbody>\n",
       "    <tr>\n",
       "      <th>0</th>\n",
       "      <td>\"FBI\"</td>\n",
       "      <td>\"Special Agent\"</td>\n",
       "      <td>['\"Data analysis', ' critical thinking', ' pro...</td>\n",
       "    </tr>\n",
       "  </tbody>\n",
       "</table>\n",
       "</div>"
      ],
      "text/plain": [
       "  Company Name        Job Title  \\\n",
       "0        \"FBI\"  \"Special Agent\"   \n",
       "\n",
       "                                     Relevant Skills  \n",
       "0  ['\"Data analysis', ' critical thinking', ' pro...  "
      ]
     },
     "execution_count": 3,
     "metadata": {},
     "output_type": "execute_result"
    }
   ],
   "source": [
    "pd.read_csv('job_description.csv')"
   ]
  },
  {
   "cell_type": "code",
   "execution_count": 4,
   "metadata": {},
   "outputs": [],
   "source": [
    "# read current resume\n",
    "def read_current_resume():\n",
    "    reader = PdfReader(\"CV Yusuf Surya - 8-5-2024.pdf\")\n",
    "    number_of_pages = len(reader.pages)\n",
    "    texts = \"\"\n",
    "    for page_number in range(number_of_pages):\n",
    "        page = reader.pages[page_number]\n",
    "        text = page.extract_text()\n",
    "        texts = texts + f\"Page {page_number + 1}:\\n{text}\\n---\"\n",
    "    return texts"
   ]
  },
  {
   "cell_type": "code",
   "execution_count": 5,
   "metadata": {},
   "outputs": [],
   "source": [
    "# read job description txt file for now\n",
    "def read_job_description():\n",
    "    with open(\"job_data.txt\", \"r\") as file:\n",
    "        return file.read()"
   ]
  },
  {
   "cell_type": "code",
   "execution_count": 6,
   "metadata": {},
   "outputs": [],
   "source": [
    "def model_selection(model):\n",
    "    if model == \"openai\":\n",
    "        client = OpenAI(api_key=os.getenv(\"OPENAI_API_KEY\"))\n",
    "        ai_model = \"gpt-4o-mini\"\n",
    "    elif model == \"deepseek\":\n",
    "        client = OpenAI(api_key=os.getenv(\"DEEPSEEK_API_KEY\"), base_url=\"https://api.deepseek.com\")\n",
    "        ai_model = \"deepseek-chat\"\n",
    "    else:\n",
    "        raise Exception(\"Invalid model\")\n",
    "    return client, ai_model"
   ]
  },
  {
   "cell_type": "code",
   "execution_count": 7,
   "metadata": {},
   "outputs": [],
   "source": [
    "# find keywords in job description\n",
    "def find_keywords(client, ai_model):\n",
    "\n",
    "    response = client.chat.completions.create(\n",
    "        #model=\"deepseek-chat\",\n",
    "        model=ai_model,\n",
    "        messages=[\n",
    "            {\"role\": \"system\", \"content\": \"You are a expert in recruitment.\"},\n",
    "            {\"role\": \"user\", \"content\": f\"Job Description: {read_job_description()}\"},\n",
    "            {\"role\": \"user\", \"content\": \"Find the company name, job title, and relevant skills in the job description. Do not rephrase!\"},\n",
    "            #{\"role\": \"user\", \"content\": \"Output format: Company; [company name], Job Title: [job title], Skills: [skills]\"},\n",
    "            {\"role\": \"user\", \"content\": \"Output in csv format!\"}\n",
    "            ],\n",
    "        stream=False\n",
    "    )\n",
    "\n",
    "    return response.choices[0].message.content"
   ]
  },
  {
   "cell_type": "code",
   "execution_count": 8,
   "metadata": {},
   "outputs": [],
   "source": [
    "# Headline\n",
    "def find_headline(client, ai_model, jobdesc):\n",
    "    #client = OpenAI(api_key=DEEPSEEK_API_KEY, base_url=\"https://api.deepseek.com\")\n",
    "\n",
    "    response = client.chat.completions.create(\n",
    "        model=ai_model,\n",
    "        messages=[\n",
    "            {\"role\": \"system\", \"content\": \"You are a expert in ATS friendly resume writing.\"},\n",
    "            #{\"role\": \"user\", \"content\": \"Based on job description and my resume below:\"},\n",
    "            {\"role\": \"user\", \"content\": f\"Current resume: {read_current_resume()}\"},\n",
    "            {\"role\": \"user\", \"content\": f\"Job Description: {jobdesc}\"},\n",
    "            {\"role\": \"user\", \"content\": \"\"\"Make only the headline section. Use these formats:\n",
    "            Results-Oriented Business Analyst with 7 Years of Experience, Finance Manager with 10 Years of Experience in the Banking Industry,\n",
    "            Human Resources Professional with 5 Years of Experience in Recruitment and Employee Relations\"\"\"},\n",
    "            {\"role\": \"user\", \"content\": \"Use the exact same job title and skills you found in the job description.\"},\n",
    "            {\"role\": \"user\", \"content\": \"Do not include your explanation in the output.\"},\n",
    "            ],\n",
    "        stream=False\n",
    "    )\n",
    "\n",
    "    headline = response.choices[0].message.content\n",
    "    return headline"
   ]
  },
  {
   "cell_type": "code",
   "execution_count": 9,
   "metadata": {},
   "outputs": [],
   "source": [
    "# Work Experience\n",
    "def work_experience(client, ai_model, jobdesc):\n",
    "\n",
    "    response = client.chat.completions.create(\n",
    "        model=ai_model,\n",
    "        messages=[\n",
    "            {\"role\": \"system\", \"content\": \"You are a expert in ATS friendly resume writing.\"},\n",
    "            {\"role\": \"user\", \"content\": \"Based on job description and my resume below:\"},\n",
    "            {\"role\": \"user\", \"content\": f\"Current resume: {read_current_resume()}\"},\n",
    "            {\"role\": \"user\", \"content\": f\"Job Description: {jobdesc}\"},\n",
    "            {\"role\": \"user\", \"content\": \"Modify the work experience section of my resume to include all the relevant skills and experience from the job description.\"},\n",
    "            {\"role\": \"user\", \"content\": \"Change the job title to match the job description.\"},\n",
    "            {\"role\": \"user\", \"content\": \"Format: Job Title - Company Name - Location - Start Date to End Date in one line followed by a bullet point list of responsibilities and achievements.\"},\n",
    "            {\"role\": \"user\", \"content\": \"Do not include your explanation and section title in the output. Only include the modified work experience section.\"},\n",
    "            ],\n",
    "        stream=False\n",
    "    )\n",
    "\n",
    "    work_experience = response.choices[0].message.content\n",
    "    return work_experience"
   ]
  },
  {
   "cell_type": "code",
   "execution_count": 10,
   "metadata": {},
   "outputs": [],
   "source": [
    "# Skills section\n",
    "def skills_section(client, ai_model, jobdesc):\n",
    "    response = client.chat.completions.create(\n",
    "        model=ai_model,\n",
    "        messages=[\n",
    "            {\"role\": \"system\", \"content\": \"You are a expert in ATS friendly resume writing.\"},\n",
    "            {\"role\": \"user\", \"content\": \"Based on job description and my resume below:\"},\n",
    "            {\"role\": \"user\", \"content\": f\"Current resume: {read_current_resume()}\"},\n",
    "            {\"role\": \"user\", \"content\": f\"Job Description: {jobdesc}\"},\n",
    "            {\"role\": \"user\", \"content\": \"Provide the skills from the job description that you have and are relevant to the job.\"},\n",
    "            {\"role\": \"user\", \"content\": \"Add the skills that are not in my resume but relevant to the job. Group them into categories like Technical Skills, Soft Skills, etc.\"},\n",
    "            {\"role\": \"user\", \"content\": \"Format: [Category Name]: [Skill 1], [Skill 2], [Skill 3]\"},\n",
    "            {\"role\": \"user\", \"content\": \"Do not include your explanation and section title in the output. \"},\n",
    "            ],\n",
    "        stream=False\n",
    "    )\n",
    "\n",
    "    skills = response.choices[0].message.content\n",
    "    return skills"
   ]
  },
  {
   "cell_type": "code",
   "execution_count": 11,
   "metadata": {},
   "outputs": [],
   "source": [
    "def ats_resume(headline, contact_info, education, work, skills, client, ai_model):\n",
    "    #client = OpenAI(api_key=DEEPSEEK_API_KEY, base_url=\"https://api.deepseek.com\")\n",
    "\n",
    "    response = client.chat.completions.create(\n",
    "        model=ai_model,\n",
    "        messages=[\n",
    "            {\"role\": \"system\", \"content\": \"You are a expert in ATS friendly resume writing.\"},\n",
    "            {\"role\": \"user\", \"content\": \"Make ATS friendly resume based on information below.\"},\n",
    "            {\"role\": \"user\", \"content\": f\"Headline: {headline}, put it under the name without any section title.\"},\n",
    "            {\"role\": \"user\", \"content\": f\"Contact Information: {contact_info}\"},\n",
    "            {\"role\": \"user\", \"content\": f\"Education: {education}.\"},\n",
    "            {\"role\": \"user\", \"content\": f\"Work Experience: {work}\"},\n",
    "            {\"role\": \"user\", \"content\": f\"Skills: {skills}\"},\n",
    "            {\"role\": \"user\", \"content\": \"Do not include your explanation in the output.\"},\n",
    "            ],\n",
    "        stream=False\n",
    "    )\n",
    "\n",
    "    print(response.choices[0].message.content)\n",
    "    resume = response.choices[0].message.content\n",
    "    return resume"
   ]
  },
  {
   "cell_type": "code",
   "execution_count": 12,
   "metadata": {},
   "outputs": [],
   "source": [
    "# format the result to html\n",
    "def resume_to_html(resume, html_format, client, ai_model):\n",
    "    #client\n",
    "\n",
    "    response = client.chat.completions.create(\n",
    "        model=ai_model,\n",
    "        messages=[\n",
    "            {\"role\": \"system\", \"content\": \"You are a expert in html language.\"},\n",
    "            {\"role\": \"user\", \"content\": \"Format the resume to html format\"},\n",
    "            {\"role\": \"user\", \"content\": f\"Resume: {resume}\"},\n",
    "            {\"role\": \"user\", \"content\": f\"Guidelines: {html_format}\"},\n",
    "            {\"role\": \"user\", \"content\": \"Do not include your explanation in the output.\"},\n",
    "            ],\n",
    "        stream=False\n",
    "    )\n",
    "\n",
    "    html_file = response.choices[0].message.content\n",
    "    clean_html = html_file.replace(\"```html\", \"\")\n",
    "    clean_html = clean_html.replace(\"```\", \"\")\n",
    "    return clean_html"
   ]
  },
  {
   "cell_type": "code",
   "execution_count": 337,
   "metadata": {},
   "outputs": [],
   "source": [
    "def html_to_pdf(clean_html, name):\n",
    "\n",
    "    nest_asyncio.apply()\n",
    "\n",
    "    async def generate_pdf_from_html(html_content, pdf_path):\n",
    "        browser = await launch()\n",
    "        page = await browser.newPage()\n",
    "        \n",
    "        await page.setContent(html_content)\n",
    "        \n",
    "        await page.pdf({\n",
    "            'path': pdf_path,\n",
    "            'format': 'A4',\n",
    "            'margin': {\n",
    "                'top': '0.5in',\n",
    "                'right': '0.5in',\n",
    "                'bottom': '0.5in',\n",
    "                'left': '0.5in'\n",
    "            },\n",
    "            'printBackground': True\n",
    "        })\n",
    "        \n",
    "        await browser.close()\n",
    "\n",
    "    # HTML content\n",
    "    html_content = clean_html\n",
    "\n",
    "    # Run the function\n",
    "    asyncio.get_event_loop().run_until_complete(generate_pdf_from_html(html_content, f'{name}_Resume.pdf'))"
   ]
  },
  {
   "cell_type": "code",
   "execution_count": 338,
   "metadata": {},
   "outputs": [],
   "source": [
    "def custom_resume(company_name, llm_model='deepseek'):\n",
    "    client, ai_model = model_selection(llm_model)\n",
    "    jobdesc = find_keywords(client, ai_model)\n",
    "    headline = find_headline(client, ai_model, jobdesc)\n",
    "    work = work_experience(client, ai_model, jobdesc)\n",
    "    skills = skills_section(client, ai_model, jobdesc)\n",
    "\n",
    "    # Contact information\n",
    "    contact_info = \"\"\" \n",
    "    Name: Yusuf Surya\n",
    "    Phone: +1 412 579 2443\n",
    "    Email: ysurya@andrew.cmu.edu\n",
    "    LinkedIn: linkedin.com/in/yusuf-pradana\"\"\" \n",
    "\n",
    "    # Education\n",
    "    education = \"\"\"\n",
    "    Carnegie Mellon University, Heinz College - Master of Public Policy and Management – Data Analytics (Expected 05/2025)\n",
    "    Bandung Institute of Technology - Bachelor of Engineering (07/2017)\n",
    "    \"\"\"\n",
    "\n",
    "    html_format = \"\"\"\n",
    "    Guidelines:\n",
    "    Center the name, headline, and contact information.\n",
    "    Add separator between sections.\n",
    "    Use a 12px font size for the name and headline.\n",
    "    Use a 10px font size for the contact information.\n",
    "    Use Arial font family.\n",
    "    Use 1.5 line spacing.\n",
    "    Use a 20px margin between sections.\n",
    "    Use a 10px margin between the name and headline.\n",
    "\n",
    "    Use Semantic HTML\n",
    "\n",
    "    Wrap the resume in <section> and <div> tags.\n",
    "    Use <h1> for the candidate’s name, <h2> for section titles, and <p> or <ul> for content.\n",
    "\n",
    "    Set body { margin: 0; padding: 20px; }.\n",
    "    Use page-break-before: always; where necessary to manage page flow.\n",
    "    Set max-width: 800px; to keep content properly aligned.\n",
    "    \"\"\"\n",
    "\n",
    "    resume = ats_resume(headline, contact_info, education, work, skills, client, ai_model)\n",
    "    html_file = resume_to_html(resume, html_format, client, ai_model)\n",
    "    html_to_pdf(html_file, name=company_name)"
   ]
  },
  {
   "cell_type": "code",
   "execution_count": 339,
   "metadata": {},
   "outputs": [
    {
     "name": "stdout",
     "output_type": "stream",
     "text": [
      "**Yusuf Surya**  \n",
      "Quantitative Trading Analyst with 7 Years of Experience in Quantitative Analysis, Programming, and Machine Learning  \n",
      "\n",
      "**Contact Information**  \n",
      "Phone: +1 412 579 2443  \n",
      "Email: ysurya@andrew.cmu.edu  \n",
      "LinkedIn: linkedin.com/in/yusuf-pradana  \n",
      "\n",
      "**Education**  \n",
      "Carnegie Mellon University, Heinz College - Master of Public Policy and Management – Data Analytics (Expected 05/2025)  \n",
      "Bandung Institute of Technology - Bachelor of Engineering (07/2017)  \n",
      "\n",
      "**Work Experience**  \n",
      "**Quantitative Trading Analyst**  \n",
      "Ministry of Finance Republic of Indonesia - Indonesia (2019 to Present)  \n",
      "- Conducted quantitative analysis and deep research on asset revaluation results worth 6,000 trillion Rupiah, managing approximately 1 million assets, ensuring accuracy and timeliness.  \n",
      "- Developed and implemented statistical models and simulation-based models to analyze the impact of data improvements on central government financial reports, successfully persuading auditors of compliance and accuracy.  \n",
      "- Designed and optimized asset management systems using mathematical modeling and optimization techniques, significantly reducing bureaucracy based on user survey feedback.  \n",
      "- Created algorithms for scenario analysis and probabilistic outcomes to enhance decision-making processes in asset management.  \n",
      "- Utilized Python (NumPy, Pandas, SciPy) for data integration, handling large datasets, and developing monitoring dashboards to track follow-up actions on audit findings.  \n",
      "- Led project management initiatives, coordinating with stakeholders to ensure effective resolution and reporting of audit findings.  \n",
      "- Improved customer engagement by over 100% within 1 year through strategic initiatives and effective communication channels.  \n",
      "\n",
      "**Business Analyst**  \n",
      "Markplus Inc - Indonesia (2017 to 2019)  \n",
      "- Designed and executed market research projects focusing on brand activation, customer pipeline, and customer experience, utilizing statistical models and machine learning techniques.  \n",
      "- Conducted in-depth interviews and analyzed customer data from various financial institutions, providing recommendations to enhance customer experience and product offerings.  \n",
      "- Presented research findings and actionable strategies to clients, effectively communicating insights to drive business growth and improve customer satisfaction metrics.  \n",
      "- Coordinated project execution, including participant recruitment, data collection, and analysis, ensuring alignment with client objectives and industry best practices.  \n",
      "- Utilized Python and data visualization tools to present complex data insights in a clear and actionable manner.  \n",
      "\n",
      "**Skills**  \n",
      "**Technical Skills:** Quantitative analysis, Programming, Deep research, Software development, Mathematical techniques, Optimization techniques, Statistical models, Simulation-based models, Data integration, Scenario analysis, Probabilistic outcomes, Probability, Statistics, Machine learning, Python, NumPy, Pandas, SciPy, Mathematical modeling, Handling large datasets, Project management, Origination, Trading exposure, Financial implications, Power markets  \n",
      "**Soft Skills:** Strategic thinking, Effective communication, Problem-solving, Team collaboration, Analytical thinking\n"
     ]
    }
   ],
   "source": [
    "custom_resume(company_name=\"SESCO\")"
   ]
  },
  {
   "cell_type": "code",
   "execution_count": 21,
   "metadata": {},
   "outputs": [
    {
     "name": "stdout",
     "output_type": "stream",
     "text": [
      "```csv\n",
      "Company Name,Job Title,Relevant Skills\n",
      "FBI,Special Agent,Mathematics, Data Analysis, Critical Thinking, Problem-Solving, Technical Knowledge, Investigative Skills, Microsoft Office, Communication Skills, Physical Fitness\n",
      "```\n"
     ]
    }
   ],
   "source": [
    "client, ai_model = model_selection(\"openai\")\n",
    "res = find_keywords(client, ai_model)\n",
    "print(res)"
   ]
  },
  {
   "cell_type": "code",
   "execution_count": 23,
   "metadata": {},
   "outputs": [],
   "source": [
    "# Split the res string into lines\n",
    "lines = res.split('\\n')\n",
    "col_name = lines[1].split(',')\n",
    "content = [lines[2].split(',')[0], lines[2].split(',')[1], str(lines[2].split(',')[2:])]\n",
    "newcontent = pd.DataFrame([content], columns=col_name)"
   ]
  },
  {
   "cell_type": "code",
   "execution_count": null,
   "metadata": {},
   "outputs": [],
   "source": [
    "job_desc_data = pd.read_csv('job_description.csv')\n",
    "# append the new content to the existing job description data\n",
    "job_desc_data = job_desc_data.append(newcontent)\n",
    "job_desc_data.to_csv('job_description.csv', index=False)"
   ]
  }
 ],
 "metadata": {
  "kernelspec": {
   "display_name": "base",
   "language": "python",
   "name": "python3"
  },
  "language_info": {
   "codemirror_mode": {
    "name": "ipython",
    "version": 3
   },
   "file_extension": ".py",
   "mimetype": "text/x-python",
   "name": "python",
   "nbconvert_exporter": "python",
   "pygments_lexer": "ipython3",
   "version": "3.12.7"
  }
 },
 "nbformat": 4,
 "nbformat_minor": 4
}
