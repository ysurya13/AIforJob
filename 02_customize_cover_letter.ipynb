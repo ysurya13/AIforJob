{
 "cells": [
  {
   "cell_type": "code",
   "execution_count": 92,
   "metadata": {},
   "outputs": [],
   "source": [
    "from openai import OpenAI\n",
    "import os\n",
    "import asyncio\n",
    "from pyppeteer import launch\n",
    "import nest_asyncio\n",
    "from pypdf import PdfReader\n",
    "from datetime import datetime"
   ]
  },
  {
   "cell_type": "code",
   "execution_count": 93,
   "metadata": {},
   "outputs": [],
   "source": [
    "# read current resume\n",
    "def read_current_resume():\n",
    "    reader = PdfReader(\"CV Yusuf Surya - 8-5-2024.pdf\")\n",
    "    number_of_pages = len(reader.pages)\n",
    "    texts = \"\"\n",
    "    for page_number in range(number_of_pages):\n",
    "        page = reader.pages[page_number]\n",
    "        text = page.extract_text()\n",
    "        texts = texts + f\"Page {page_number + 1}:\\n{text}\\n---\"\n",
    "    return texts"
   ]
  },
  {
   "cell_type": "code",
   "execution_count": 94,
   "metadata": {},
   "outputs": [],
   "source": [
    "# read job description txt file for now\n",
    "def read_job_description():\n",
    "    with open(\"job_data.txt\", \"r\") as file:\n",
    "        return file.read()"
   ]
  },
  {
   "cell_type": "code",
   "execution_count": 95,
   "metadata": {},
   "outputs": [],
   "source": [
    "def model_selection(model):\n",
    "    if model == \"openai\":\n",
    "        client = OpenAI(api_key=os.getenv(\"OPENAI_API_KEY\"))\n",
    "        ai_model = \"gpt-4o\"\n",
    "    elif model == \"deepseek\":\n",
    "        client = OpenAI(api_key=os.getenv(\"DEEPSEEK_API_KEY\"), base_url=\"https://api.deepseek.com\")\n",
    "        ai_model = \"deepseek-chat\"\n",
    "    else:\n",
    "        raise Exception(\"Invalid model\")\n",
    "    return client, ai_model"
   ]
  },
  {
   "cell_type": "code",
   "execution_count": 96,
   "metadata": {},
   "outputs": [],
   "source": [
    "# read cover letter draft\n",
    "def read_cover_letter_draft():\n",
    "    reader = PdfReader(\"About me.pdf\")\n",
    "    number_of_pages = len(reader.pages)\n",
    "    texts = \"\"\n",
    "    for page_number in range(number_of_pages):\n",
    "        page = reader.pages[page_number]\n",
    "        text = page.extract_text()\n",
    "        texts = texts + f\"Page {page_number + 1}:\\n{text}\\n---\"\n",
    "    return texts"
   ]
  },
  {
   "cell_type": "code",
   "execution_count": 97,
   "metadata": {},
   "outputs": [],
   "source": [
    "# Work Experience\n",
    "def cover_letter_txt(client, ai_model, jobdesc, resume, about_me, address):\n",
    "    today_date = datetime.today().strftime('%B %d, %Y')\n",
    "    response = client.chat.completions.create(\n",
    "        model=ai_model,\n",
    "        messages=[\n",
    "            {\"role\": \"system\", \"content\": \"You are human expert in cover letter writing. Use simple language and write like you mean it.\"},\n",
    "            {\"role\": \"user\", \"content\": f\"Job decsription: {jobdesc}\"},\n",
    "            {\"role\": \"user\", \"content\": f\"Resume: {resume}\"},\n",
    "            {\"role\": \"user\", \"content\": f\"About me: {about_me}\"},\n",
    "            {\"role\": \"user\", \"content\": f\"Today's date: {today_date}. My address: {address}\"},\n",
    "            {\"role\": \"user\", \"content\": \"Use my personal information\"},\n",
    "            {\"role\": \"user\", \"content\": \"Make the opening more engaging, arrange story with high specificity in skills, stronger call to action. Only response with the cover letter no need explanation.\"},\n",
    "            ],\n",
    "        stream=False\n",
    "    )\n",
    "\n",
    "    cl = response.choices[0].message.content\n",
    "    return cl"
   ]
  },
  {
   "cell_type": "code",
   "execution_count": 98,
   "metadata": {},
   "outputs": [],
   "source": [
    "# Cover letter to html\n",
    "def cover_letter_html(client, ai_model, cover_letter, html_format):\n",
    "    \n",
    "    response = client.chat.completions.create(\n",
    "        model=ai_model,\n",
    "        messages=[\n",
    "            {\"role\": \"system\", \"content\": \"You are a expert in html language.\"},\n",
    "            {\"role\": \"user\", \"content\": \"Format the cover letter to html format.\"},\n",
    "            {\"role\": \"user\", \"content\": f\"Cover Letter: {cover_letter}\"},\n",
    "            {\"role\": \"user\", \"content\": f\"Guidelines: {html_format}\"},\n",
    "            {\"role\": \"user\", \"content\": \"Make sure the html is formatted correctly and 1 letter page long.\"},\n",
    "            {\"role\": \"user\", \"content\": \"Font size should be max 12px and font family should be Arial.\"},\n",
    "            {\"role\": \"user\", \"content\": \"Do not include your explanation in the output.\"},\n",
    "            ],\n",
    "        stream=False\n",
    "    )\n",
    "\n",
    "    html_file = response.choices[0].message.content\n",
    "    clean_html = html_file.replace(\"```html\", \"\")\n",
    "    clean_html = clean_html.replace(\"```\", \"\")\n",
    "    return clean_html"
   ]
  },
  {
   "cell_type": "code",
   "execution_count": 99,
   "metadata": {},
   "outputs": [],
   "source": [
    "def html_to_pdf(clean_html, name):\n",
    "\n",
    "    nest_asyncio.apply()\n",
    "\n",
    "    async def generate_pdf_from_html(html_content, pdf_path):\n",
    "        browser = await launch()\n",
    "        page = await browser.newPage()\n",
    "        \n",
    "        await page.setContent(html_content)\n",
    "        \n",
    "        await page.pdf({\n",
    "            'path': pdf_path,\n",
    "            'format': 'A4',\n",
    "            'margin': {\n",
    "                'top': '0.5in',\n",
    "                'right': '0.5in',\n",
    "                'bottom': '0.5in',\n",
    "                'left': '0.5in'\n",
    "            },\n",
    "            'printBackground': True\n",
    "        })\n",
    "        \n",
    "        await browser.close()\n",
    "\n",
    "    # HTML content\n",
    "    html_content = clean_html\n",
    "\n",
    "    # Run the function\n",
    "    asyncio.get_event_loop().run_until_complete(generate_pdf_from_html(html_content, f'{name}_Cover_Letter.pdf'))"
   ]
  },
  {
   "cell_type": "code",
   "execution_count": 100,
   "metadata": {},
   "outputs": [],
   "source": [
    "address = \"208 N Homewood Ave, Pittsburgh, PA 15208\"\n",
    "html_format = \"\"\"\n",
    "    Guidelines:\n",
    "    Use Semantic HTML\n",
    "\n",
    "    Wrap the cover letter in <section> and <div> tags.\n",
    "    Use <h3> for the candidate’s name, <h3> for section titles, and <p> or <ul> for content.\n",
    "\n",
    "    Ensure PDF-Friendly Styling\n",
    "\n",
    "    Set body { margin: 0; padding: 20px; } to prevent extra margins when rendering PDFs.\n",
    "    Use page-break-before: always; where necessary to manage page flow.\n",
    "    Set max-width: 800px; to keep content properly aligned.\n",
    "    \"\"\""
   ]
  },
  {
   "cell_type": "code",
   "execution_count": 101,
   "metadata": {},
   "outputs": [
    {
     "name": "stderr",
     "output_type": "stream",
     "text": [
      "Ignoring wrong pointing object 6 0 (offset 0)\n"
     ]
    },
    {
     "name": "stdout",
     "output_type": "stream",
     "text": [
      "Yusuf Surya  \n",
      "208 N Homewood Ave  \n",
      "Pittsburgh, PA 15208  \n",
      "+1 412-579-2443  \n",
      "ysurya@andrew.cmu.edu  \n",
      "March 11, 2025  \n",
      "\n",
      "Hiring Manager  \n",
      "SESCO  \n",
      "\n",
      "Dear Hiring Manager,\n",
      "\n",
      "I'm writing to express my enthusiasm for the Quantitative Trading Analyst position at SESCO. I've always been captivated by the dynamic nature of electricity markets, and your forward-thinking approach resonates with my professional journey and aspirations.\n",
      "\n",
      "Growing up in Indonesia, an archipelago of untold possibilities, I developed a keen interest in problem-solving and adaptability. These traits guided my transition from Petroleum Engineering to becoming a business analyst at Markplus Inc. Here, I honed my skills in market research, achieving an 80% success rate in client proposal deals within a year, demonstrating my ability to quickly grasp and apply complex business models.\n",
      "\n",
      "Currently, as a Data Analyst at the Ministry of Finance in Indonesia, I've led projects of vast scale, such as reassessing over a million government assets worth 6,000 trillion Rupiah. This role taught me to deftly maneuver large datasets and devise data-driven policies, which resulted in completing 95% of the asset valuation within six months. These experiences have fostered a robust foundation in data manipulation, optimization, and decision-making.\n",
      "\n",
      "As I advance towards completing my Master's in Public Policy and Management – Data Analytics at Carnegie Mellon University, I've immersed myself in machine learning, database management, and advanced data analysis techniques. My proficiency in Python's vast libraries and simulation modeling positions me to contribute effectively to your team. The iterative and collaborative environment at SESCO aligns with my belief in continuous innovation and problem-solving rigor.\n",
      "\n",
      "I'm particularly drawn to your hacker mindset approach and excitement in tackling real-world challenges. Joining SESCO would allow me to leverage my background in quantitative analysis and policy to develop cutting-edge trading strategies and solutions.\n",
      "\n",
      "I am eager to bring my analytical acumen and innovative spirit to SESCO and contribute to shaping the future of electricity trading. I would appreciate the opportunity to discuss how my skills and vision align with your team's goals. I'm open to remote work, which could be advantageous for both of us, providing quality outcomes with practical efficiencies.\n",
      "\n",
      "Thank you for considering my application. I'm looking forward to the possibility of contributing to SESCO’s success and am available at your earliest convenience for a discussion.\n",
      "\n",
      "Warm regards,\n",
      "\n",
      "Yusuf Surya\n",
      "\n",
      "[LinkedIn URL]\n"
     ]
    }
   ],
   "source": [
    "client, ai_model = model_selection(\"openai\")\n",
    "jobdesc = read_job_description()\n",
    "resume = read_current_resume()\n",
    "about_me = read_cover_letter_draft()\n",
    "cover_letter = cover_letter_txt(client, ai_model, jobdesc, resume, about_me, address)\n",
    "print(cover_letter)"
   ]
  },
  {
   "cell_type": "code",
   "execution_count": 102,
   "metadata": {},
   "outputs": [
    {
     "name": "stdout",
     "output_type": "stream",
     "text": [
      "\n",
      "<!DOCTYPE html>\n",
      "<html lang=\"en\">\n",
      "<head>\n",
      "    <meta charset=\"UTF-8\">\n",
      "    <meta name=\"viewport\" content=\"width=device-width, initial-scale=1.0\">\n",
      "    <title>Cover Letter - Yusuf Surya</title>\n",
      "    <style>\n",
      "        body {\n",
      "            margin: 0;\n",
      "            padding: 20px;\n",
      "            font-family: Arial, sans-serif;\n",
      "            font-size: 12px;\n",
      "            max-width: 800px;\n",
      "        }\n",
      "        h3 {\n",
      "            font-size: 14px;\n",
      "            margin-bottom: 10px;\n",
      "        }\n",
      "        p, ul {\n",
      "            margin: 0 0 10px 0;\n",
      "            line-height: 1.5;\n",
      "        }\n",
      "        .section-title {\n",
      "            font-weight: bold;\n",
      "            margin-top: 20px;\n",
      "        }\n",
      "        .contact-info {\n",
      "            margin-bottom: 20px;\n",
      "        }\n",
      "        .signature {\n",
      "            margin-top: 20px;\n",
      "        }\n",
      "    </style>\n",
      "</head>\n",
      "<body>\n",
      "    <section>\n",
      "        <div class=\"contact-info\">\n",
      "            <h3>Yusuf Surya</h3>\n",
      "            <p>208 N Homewood Ave</p>\n",
      "            <p>Pittsburgh, PA 15208</p>\n",
      "            <p>+1 412-579-2443</p>\n",
      "            <p>ysurya@andrew.cmu.edu</p>\n",
      "            <p>March 11, 2025</p>\n",
      "        </div>\n",
      "\n",
      "        <div>\n",
      "            <h3>Hiring Manager</h3>\n",
      "            <p>SESCO</p>\n",
      "        </div>\n",
      "\n",
      "        <div class=\"section-title\">\n",
      "            <h3>Dear Hiring Manager,</h3>\n",
      "        </div>\n",
      "\n",
      "        <div>\n",
      "            <p>I'm writing to express my enthusiasm for the Quantitative Trading Analyst position at SESCO. I've always been captivated by the dynamic nature of electricity markets, and your forward-thinking approach resonates with my professional journey and aspirations.</p>\n",
      "\n",
      "            <p>Growing up in Indonesia, an archipelago of untold possibilities, I developed a keen interest in problem-solving and adaptability. These traits guided my transition from Petroleum Engineering to becoming a business analyst at Markplus Inc. Here, I honed my skills in market research, achieving an 80% success rate in client proposal deals within a year, demonstrating my ability to quickly grasp and apply complex business models.</p>\n",
      "\n",
      "            <p>Currently, as a Data Analyst at the Ministry of Finance in Indonesia, I've led projects of vast scale, such as reassessing over a million government assets worth 6,000 trillion Rupiah. This role taught me to deftly maneuver large datasets and devise data-driven policies, which resulted in completing 95% of the asset valuation within six months. These experiences have fostered a robust foundation in data manipulation, optimization, and decision-making.</p>\n",
      "\n",
      "            <p>As I advance towards completing my Master's in Public Policy and Management – Data Analytics at Carnegie Mellon University, I've immersed myself in machine learning, database management, and advanced data analysis techniques. My proficiency in Python's vast libraries and simulation modeling positions me to contribute effectively to your team. The iterative and collaborative environment at SESCO aligns with my belief in continuous innovation and problem-solving rigor.</p>\n",
      "\n",
      "            <p>I'm particularly drawn to your hacker mindset approach and excitement in tackling real-world challenges. Joining SESCO would allow me to leverage my background in quantitative analysis and policy to develop cutting-edge trading strategies and solutions.</p>\n",
      "\n",
      "            <p>I am eager to bring my analytical acumen and innovative spirit to SESCO and contribute to shaping the future of electricity trading. I would appreciate the opportunity to discuss how my skills and vision align with your team's goals. I'm open to remote work, which could be advantageous for both of us, providing quality outcomes with practical efficiencies.</p>\n",
      "\n",
      "            <p>Thank you for considering my application. I'm looking forward to the possibility of contributing to SESCO’s success and am available at your earliest convenience for a discussion.</p>\n",
      "        </div>\n",
      "\n",
      "        <div class=\"signature\">\n",
      "            <p>Warm regards,</p>\n",
      "            <p>Yusuf Surya</p>\n",
      "            <p>[LinkedIn URL]</p>\n",
      "        </div>\n",
      "    </section>\n",
      "</body>\n",
      "</html>\n",
      "\n"
     ]
    }
   ],
   "source": [
    "client, ai_model = model_selection(\"deepseek\")\n",
    "html_cover_letter = cover_letter_html(client, ai_model, cover_letter, html_format)\n",
    "print(html_cover_letter)"
   ]
  },
  {
   "cell_type": "code",
   "execution_count": 103,
   "metadata": {},
   "outputs": [],
   "source": [
    "html_to_pdf(html_cover_letter, \"SESCO - Yusuf_Surya\")"
   ]
  }
 ],
 "metadata": {
  "kernelspec": {
   "display_name": "base",
   "language": "python",
   "name": "python3"
  },
  "language_info": {
   "codemirror_mode": {
    "name": "ipython",
    "version": 3
   },
   "file_extension": ".py",
   "mimetype": "text/x-python",
   "name": "python",
   "nbconvert_exporter": "python",
   "pygments_lexer": "ipython3",
   "version": "3.12.7"
  }
 },
 "nbformat": 4,
 "nbformat_minor": 2
}
