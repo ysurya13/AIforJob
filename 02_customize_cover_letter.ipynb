{
 "cells": [
  {
   "cell_type": "code",
   "execution_count": 69,
   "metadata": {},
   "outputs": [],
   "source": [
    "from openai import OpenAI\n",
    "import os\n",
    "import asyncio\n",
    "from pyppeteer import launch\n",
    "import nest_asyncio\n",
    "from pypdf import PdfReader\n",
    "from datetime import datetime\n",
    "import pandas as pd\n",
    "import glob"
   ]
  },
  {
   "cell_type": "code",
   "execution_count": 70,
   "metadata": {},
   "outputs": [],
   "source": [
    "# read current resume\n",
    "def read_current_resume():\n",
    "    # get pdf file in source_resume folder\n",
    "    pdf_files = glob.glob(\"./source_resume/*.pdf\")\n",
    "    if not pdf_files:\n",
    "        raise FileNotFoundError(\"No PDF files found in the source_resume folder.\")\n",
    "    pdf_file = pdf_files[0]\n",
    "    reader = PdfReader(pdf_file)\n",
    "    number_of_pages = len(reader.pages)\n",
    "    texts = \"\"\n",
    "    for page_number in range(number_of_pages):\n",
    "        page = reader.pages[page_number]\n",
    "        text = page.extract_text()\n",
    "        texts = texts + f\"Page {page_number + 1}:\\n{text}\\n---\"\n",
    "    return texts"
   ]
  },
  {
   "cell_type": "code",
   "execution_count": 71,
   "metadata": {},
   "outputs": [],
   "source": [
    "# read job description txt file for now\n",
    "def job_description():\n",
    "    job_desc = pd.read_csv(\"job_description.csv\")\n",
    "    company_name = job_desc.iloc[-1].company_name\n",
    "    job_title = job_desc.iloc[-1].job_title\n",
    "    relevant_skills = job_desc.iloc[-1].relevant_skills\n",
    "    job_desc = f\"Company Name: {company_name}\\nJob Title: {job_title}\\nJob Description: {relevant_skills}\"\n",
    "    return company_name, job_title, job_desc"
   ]
  },
  {
   "cell_type": "code",
   "execution_count": 72,
   "metadata": {},
   "outputs": [],
   "source": [
    "def model_selection(model):\n",
    "    if model == \"openai\":\n",
    "        client = OpenAI(api_key=os.getenv(\"OPENAI_API_KEY\"))\n",
    "        ai_model = \"gpt-4o\"\n",
    "    elif model == \"deepseek\":\n",
    "        client = OpenAI(api_key=os.getenv(\"DEEPSEEK_API_KEY\"), base_url=\"https://api.deepseek.com\")\n",
    "        ai_model = \"deepseek-chat\"\n",
    "    else:\n",
    "        raise Exception(\"Invalid model\")\n",
    "    return client, ai_model"
   ]
  },
  {
   "cell_type": "code",
   "execution_count": 73,
   "metadata": {},
   "outputs": [],
   "source": [
    "# read cover letter draft\n",
    "def read_cover_letter_draft():\n",
    "    pdf_files = glob.glob(\"./source_cover_letter/*.pdf\")\n",
    "    if not pdf_files:\n",
    "        raise FileNotFoundError(\"No PDF files found in the source_resume folder.\")\n",
    "    pdf_file = pdf_files[0]\n",
    "    reader = PdfReader(pdf_file)\n",
    "    number_of_pages = len(reader.pages)\n",
    "    texts = \"\"\n",
    "    for page_number in range(number_of_pages):\n",
    "        page = reader.pages[page_number]\n",
    "        text = page.extract_text()\n",
    "        texts = texts + f\"Page {page_number + 1}:\\n{text}\\n---\"\n",
    "    return texts"
   ]
  },
  {
   "cell_type": "code",
   "execution_count": 74,
   "metadata": {},
   "outputs": [],
   "source": [
    "# Work Experience\n",
    "def cover_letter_txt(client, ai_model, jobdesc, resume, about_me, address):\n",
    "    today_date = datetime.today().strftime('%B %d, %Y')\n",
    "    response = client.chat.completions.create(\n",
    "        model=ai_model,\n",
    "        messages=[\n",
    "            {\"role\": \"system\", \"content\": \"You are human expert in cover letter writing. Use simple language and write like you mean it.\"},\n",
    "            {\"role\": \"user\", \"content\": f\"Job decsription: {jobdesc}\"},\n",
    "            {\"role\": \"user\", \"content\": f\"Resume: {resume}\"},\n",
    "            {\"role\": \"user\", \"content\": f\"About me: {about_me}\"},\n",
    "            {\"role\": \"user\", \"content\": f\"Today's date: {today_date}. My address: {address}\"},\n",
    "            {\"role\": \"user\", \"content\": \"Use my personal information. Do not leave any empty place holder!\"},\n",
    "            {\"role\": \"user\", \"content\": \"Make the opening more engaging, arrange story with high specificity in skills, stronger call to action. Only response with the cover letter no need explanation.\"},\n",
    "            ],\n",
    "        stream=False\n",
    "    )\n",
    "\n",
    "    cl = response.choices[0].message.content\n",
    "    return cl"
   ]
  },
  {
   "cell_type": "code",
   "execution_count": 75,
   "metadata": {},
   "outputs": [],
   "source": [
    "# Cover letter to html\n",
    "def cover_letter_html(client, ai_model, cover_letter, html_format):\n",
    "    \n",
    "    response = client.chat.completions.create(\n",
    "        model=ai_model,\n",
    "        messages=[\n",
    "            {\"role\": \"system\", \"content\": \"You are a expert in html language.\"},\n",
    "            {\"role\": \"user\", \"content\": \"Format the cover letter to html format.\"},\n",
    "            {\"role\": \"user\", \"content\": f\"Cover Letter: {cover_letter}\"},\n",
    "            {\"role\": \"user\", \"content\": f\"Guidelines: {html_format}\"},\n",
    "            {\"role\": \"user\", \"content\": \"Make sure the html is formatted correctly and 1 letter page long.\"},\n",
    "            {\"role\": \"user\", \"content\": \"Font size should be max 12px and font family should be Arial.\"},\n",
    "            {\"role\": \"user\", \"content\": \"Do not include your explanation in the output.\"},\n",
    "            ],\n",
    "        stream=False\n",
    "    )\n",
    "\n",
    "    html_file = response.choices[0].message.content\n",
    "    clean_html = html_file.replace(\"```html\", \"\")\n",
    "    clean_html = clean_html.replace(\"```\", \"\")\n",
    "    return clean_html"
   ]
  },
  {
   "cell_type": "code",
   "execution_count": 76,
   "metadata": {},
   "outputs": [],
   "source": [
    "def html_to_pdf(clean_html, name):\n",
    "\n",
    "    nest_asyncio.apply()\n",
    "    \n",
    "    pdf_path = os.path.join(os.getcwd(), 'results', 'cover_letter', f\"{name}_Cover_Letter.pdf\")\n",
    "\n",
    "    async def generate_pdf_from_html(html_content, pdf_path):\n",
    "        browser = await launch()\n",
    "        page = await browser.newPage()\n",
    "        \n",
    "        await page.setContent(html_content)\n",
    "        \n",
    "        await page.pdf({\n",
    "            'path': pdf_path,\n",
    "            'format': 'A4',\n",
    "            'margin': {\n",
    "                'top': '0.5in',\n",
    "                'right': '0.5in',\n",
    "                'bottom': '0.5in',\n",
    "                'left': '0.5in'\n",
    "            },\n",
    "            'printBackground': True\n",
    "        })\n",
    "        \n",
    "        await browser.close()\n",
    "\n",
    "    # HTML content\n",
    "    html_content = clean_html\n",
    "\n",
    "    # Run the function\n",
    "    asyncio.get_event_loop().run_until_complete(generate_pdf_from_html(html_content, pdf_path))"
   ]
  },
  {
   "cell_type": "code",
   "execution_count": 77,
   "metadata": {},
   "outputs": [],
   "source": [
    "address = \"208 N Homewood Ave, Pittsburgh, PA 15208\"\n",
    "html_format = \"\"\"\n",
    "    Guidelines:\n",
    "    Use Semantic HTML\n",
    "\n",
    "    Wrap the cover letter in <section> and <div> tags.\n",
    "    Use <h3> for the candidate’s name, <h3> for section titles, and <p> or <ul> for content.\n",
    "\n",
    "    Ensure PDF-Friendly Styling\n",
    "\n",
    "    Set body { margin: 0; padding: 20px; } to prevent extra margins when rendering PDFs.\n",
    "    Use page-break-before: always; where necessary to manage page flow.\n",
    "    Set max-width: 800px; to keep content properly aligned.\n",
    "    \"\"\""
   ]
  },
  {
   "cell_type": "code",
   "execution_count": 78,
   "metadata": {},
   "outputs": [],
   "source": [
    "def customize_cover_letter():\n",
    "    client, ai_model = model_selection(\"openai\")\n",
    "    jobdesc = job_description()[2]\n",
    "    resume = read_current_resume()\n",
    "    about_me = read_cover_letter_draft()\n",
    "    cover_letter = cover_letter_txt(client, ai_model, jobdesc, resume, about_me, address)\n",
    "    print(\"Cover Letter Drafted\")\n",
    "    return cover_letter"
   ]
  },
  {
   "cell_type": "code",
   "execution_count": 79,
   "metadata": {},
   "outputs": [],
   "source": [
    "def cl_to_pdf():\n",
    "    company_name = job_description()[0]\n",
    "    job_title = job_description()[1]\n",
    "    client, ai_model = model_selection(\"deepseek\")\n",
    "    html_cover_letter = cover_letter_html(client, ai_model, customize_cover_letter(), html_format)\n",
    "    html_to_pdf(html_cover_letter, f\"{company_name}_{job_title}\")\n",
    "    print(\"Cover Letter PDF Generated\")"
   ]
  },
  {
   "cell_type": "code",
   "execution_count": 80,
   "metadata": {},
   "outputs": [
    {
     "name": "stderr",
     "output_type": "stream",
     "text": [
      "Ignoring wrong pointing object 6 0 (offset 0)\n"
     ]
    },
    {
     "name": "stdout",
     "output_type": "stream",
     "text": [
      "Cover Letter Drafted\n",
      "Cover Letter PDF Generated\n"
     ]
    }
   ],
   "source": [
    "cl_to_pdf()"
   ]
  }
 ],
 "metadata": {
  "kernelspec": {
   "display_name": "base",
   "language": "python",
   "name": "python3"
  },
  "language_info": {
   "codemirror_mode": {
    "name": "ipython",
    "version": 3
   },
   "file_extension": ".py",
   "mimetype": "text/x-python",
   "name": "python",
   "nbconvert_exporter": "python",
   "pygments_lexer": "ipython3",
   "version": "3.12.7"
  }
 },
 "nbformat": 4,
 "nbformat_minor": 2
}
