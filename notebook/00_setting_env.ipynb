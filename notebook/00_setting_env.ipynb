{
 "cells": [
  {
   "cell_type": "code",
   "execution_count": 2,
   "metadata": {},
   "outputs": [],
   "source": [
    "import os"
   ]
  },
  {
   "cell_type": "code",
   "execution_count": 3,
   "metadata": {},
   "outputs": [],
   "source": [
    "# make directory to store the test files\n",
    "os.makedirs('source_resume', exist_ok=True)\n",
    "os.makedirs('source_job_desc', exist_ok=True)\n",
    "os.makedirs('source_cover_letter', exist_ok=True)\n",
    "os.makedirs('results/resume', exist_ok=True)\n",
    "os.makedirs('results/cover_letter', exist_ok=True)\n",
    "os.makedirs('no_upload', exist_ok=True)"
   ]
  }
 ],
 "metadata": {
  "kernelspec": {
   "display_name": "base",
   "language": "python",
   "name": "python3"
  },
  "language_info": {
   "codemirror_mode": {
    "name": "ipython",
    "version": 3
   },
   "file_extension": ".py",
   "mimetype": "text/x-python",
   "name": "python",
   "nbconvert_exporter": "python",
   "pygments_lexer": "ipython3",
   "version": "3.12.7"
  }
 },
 "nbformat": 4,
 "nbformat_minor": 2
}
