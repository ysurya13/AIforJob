{
 "cells": [
  {
   "cell_type": "code",
   "execution_count": null,
   "metadata": {},
   "outputs": [],
   "source": [
    "import pygsheets\n",
    "import pandas as pd\n"
   ]
  },
  {
   "cell_type": "code",
   "execution_count": 5,
   "metadata": {},
   "outputs": [],
   "source": [
    "def connect_gsheet():\n",
    "    #authorization\n",
    "    gc = pygsheets.authorize(service_file='no_upload/dummy-376403-f836124e7806.json')\n",
    "    #open the google spreadsheet (where 'PY to Gsheet Test' is the name of my sheet)\n",
    "    sh = gc.open('job_monitoring')\n",
    "    return sh"
   ]
  },
  {
   "cell_type": "code",
   "execution_count": null,
   "metadata": {},
   "outputs": [],
   "source": [
    "if __name__ == \"__main__\":\n",
    "    # read data from database\n",
    "    job_data = pd.read_csv('job_description.csv')\n",
    "\n",
    "    # connect to google sheet\n",
    "    sh = connect_gsheet()\n",
    "\n",
    "    #select the sheet by title \n",
    "    worksheet = sh.worksheet_by_title('Sheet1')\n",
    "    worksheet.clear()\n",
    "    #wks_ekstra = sh.worksheet_by_title('ekstra 22')\n",
    "    #wks_ekstra.clear()\n",
    "\n",
    "    #update the first sheet with df, starting at cell B2. \n",
    "    worksheet.set_dataframe(job_data, start='A1')\n"
   ]
  },
  {
   "cell_type": "code",
   "execution_count": null,
   "metadata": {},
   "outputs": [],
   "source": []
  }
 ],
 "metadata": {
  "kernelspec": {
   "display_name": "base",
   "language": "python",
   "name": "python3"
  },
  "language_info": {
   "codemirror_mode": {
    "name": "ipython",
    "version": 3
   },
   "file_extension": ".py",
   "mimetype": "text/x-python",
   "name": "python",
   "nbconvert_exporter": "python",
   "pygments_lexer": "ipython3",
   "version": "3.12.7"
  }
 },
 "nbformat": 4,
 "nbformat_minor": 2
}
