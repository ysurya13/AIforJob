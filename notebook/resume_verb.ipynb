{
 "cells": [
  {
   "cell_type": "code",
   "execution_count": null,
   "metadata": {},
   "outputs": [],
   "source": [
    "from bs4 import BeautifulSoup\n",
    "import requests"
   ]
  },
  {
   "cell_type": "code",
   "execution_count": 4,
   "metadata": {},
   "outputs": [],
   "source": [
    "url = \"https://www.careereducation.columbia.edu/resources/200-action-verbs-spice-your-resume\""
   ]
  },
  {
   "cell_type": "code",
   "execution_count": 18,
   "metadata": {},
   "outputs": [],
   "source": [
    "response = requests.get(url)\n",
    "soup = BeautifulSoup(response.content, 'html.parser')\n",
    "#print(soup.prettify())"
   ]
  },
  {
   "cell_type": "code",
   "execution_count": 15,
   "metadata": {},
   "outputs": [],
   "source": [
    "# get all list items under summary tags\n",
    "data = []\n",
    "for summary in soup.find_all('summary'):\n",
    "    list_items = summary.find_next('ul').find_all('li')\n",
    "    verbs = []\n",
    "    for item in list_items:\n",
    "        verbs.append(item.get_text(strip=True))\n",
    "    data.append({summary.get_text(strip=True):verbs})"
   ]
  },
  {
   "cell_type": "code",
   "execution_count": null,
   "metadata": {},
   "outputs": [],
   "source": [
    "# save the data to a text file\n",
    "with open('action_verbs.txt', 'w') as f:\n",
    "    for entry in data:\n",
    "        for key, verbs in entry.items():\n",
    "            f.write(f\"{key}:\\n\")\n",
    "            for verb in verbs:\n",
    "                f.write(f\" - {verb}\\n\")\n",
    "            f.write(\"\\n\")"
   ]
  },
  {
   "cell_type": "code",
   "execution_count": null,
   "metadata": {},
   "outputs": [],
   "source": []
  }
 ],
 "metadata": {
  "kernelspec": {
   "display_name": "base",
   "language": "python",
   "name": "python3"
  },
  "language_info": {
   "codemirror_mode": {
    "name": "ipython",
    "version": 3
   },
   "file_extension": ".py",
   "mimetype": "text/x-python",
   "name": "python",
   "nbconvert_exporter": "python",
   "pygments_lexer": "ipython3",
   "version": "3.12.7"
  }
 },
 "nbformat": 4,
 "nbformat_minor": 2
}
